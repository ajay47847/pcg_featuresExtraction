{
  "nbformat": 4,
  "nbformat_minor": 0,
  "metadata": {
    "colab": {
      "provenance": [],
      "authorship_tag": "ABX9TyO5ViSSvpiB2YcRbk06CUFA",
      "include_colab_link": true
    },
    "kernelspec": {
      "name": "python3",
      "display_name": "Python 3"
    },
    "language_info": {
      "name": "python"
    }
  },
  "cells": [
    {
      "cell_type": "markdown",
      "metadata": {
        "id": "view-in-github",
        "colab_type": "text"
      },
      "source": [
        "<a href=\"https://colab.research.google.com/github/ajay47847/pcg_classification/blob/main/Untitled61.ipynb\" target=\"_parent\"><img src=\"https://colab.research.google.com/assets/colab-badge.svg\" alt=\"Open In Colab\"/></a>"
      ]
    },
    {
      "cell_type": "code",
      "execution_count": null,
      "metadata": {
        "colab": {
          "base_uri": "https://localhost:8080/"
        },
        "id": "u0DtrZnb6kuJ",
        "outputId": "827d949f-9e1f-4559-fb1e-47ff7f800b8e"
      },
      "outputs": [
        {
          "output_type": "stream",
          "name": "stdout",
          "text": [
            "Mounted at /content/drive\n"
          ]
        }
      ],
      "source": [
        "# Mount Google Drive\n",
        "from google.colab import drive\n",
        "drive.mount('/content/drive')"
      ]
    },
    {
      "cell_type": "code",
      "source": [
        "import pandas as pd\n",
        "import numpy as np\n",
        "import os\n",
        "from scipy.io import wavfile\n",
        "from scipy.signal import butter, filtfilt, welch\n",
        "import matplotlib.pyplot as plt\n",
        "\n",
        "def load_audio_files(file_list, folder_path):\n",
        "    audio_data = []\n",
        "    min_length = float('inf')\n",
        "    for file_name in file_list:\n",
        "        file_path = os.path.join(folder_path, file_name)\n",
        "        sr, y = wavfile.read(file_path)  # Load the audio file\n",
        "        audio_data.append(y)\n",
        "        min_length = min(min_length, len(y))\n",
        "    # Trim all audio files to the minimum length\n",
        "    audio_data = [audio[:min_length] for audio in audio_data]\n",
        "    return np.array(audio_data), sr\n",
        "\n",
        "def apply_filter(data, sample_rate, filter_type, cutoff_freqs):\n",
        "    nyquist = 0.5 * sample_rate\n",
        "    normalized_cutoff = [freq / nyquist for freq in cutoff_freqs]\n",
        "    b, a = butter(N=1, Wn=normalized_cutoff, btype=filter_type)\n",
        "    filtered_data = filtfilt(b, a, data)\n",
        "    return filtered_data\n",
        "\n",
        "def z_score_normalization(audio_data):\n",
        "    normalized_audio_data = []\n",
        "    for signal in audio_data:\n",
        "        mean = np.mean(signal)\n",
        "        std = np.std(signal)\n",
        "        normalized_signal = (signal - mean) / std\n",
        "        normalized_audio_data.append(normalized_signal)\n",
        "    return np.array(normalized_audio_data)\n",
        "\n",
        "def compute_psd(audio_data, sample_rate):\n",
        "    psd_list = []\n",
        "    for signal in audio_data:\n",
        "        frequencies, psd = welch(signal, sample_rate)\n",
        "        psd_list.append(psd)\n",
        "    psd_array = np.array(psd_list)\n",
        "    return frequencies, psd_array\n",
        "\n",
        "# Load the Excel file and select relevant columns\n",
        "df = pd.read_excel('/content/PMEA_37_12_2181_OnlineAppendix.xlsx', sheet_name='SUAHSDB')\n",
        "df = df[['Record name', 'Diagnosis', 'Type (-1=normal 1=abnormal)']]\n",
        "\n",
        "# Extract 10 normal and 10 abnormal records\n",
        "normal_records = df[df['Type (-1=normal 1=abnormal)'] == -1].head(10)\n",
        "abnormal_records = df[df['Type (-1=normal 1=abnormal)'] == 1].head(10)\n",
        "\n",
        "# Get the list of normal and abnormal record names\n",
        "normal_record_names = normal_records['Record name'].tolist()\n",
        "abnormal_record_names = abnormal_records['Record name'].tolist()\n",
        "\n",
        "# Define the folder path containing the audio files\n",
        "folder_path = '/content/drive/MyDrive/training-f'\n",
        "\n",
        "# Get a list of all .wav files in the folder\n",
        "audio_files = [file for file in os.listdir(folder_path) if file.endswith('.wav')]\n",
        "\n",
        "# Filter the audio files based on normal and abnormal record names\n",
        "normal_audio_files = [file for file in audio_files if any(record in file for record in normal_record_names)]\n",
        "abnormal_audio_files = [file for file in audio_files if any(record in file for record in abnormal_record_names)]\n",
        "\n",
        "# Load normal and abnormal audio data\n",
        "normal_audio_data, sample_rate1 = load_audio_files(normal_audio_files, folder_path)\n",
        "abnormal_audio_data, sample_rate2 = load_audio_files(abnormal_audio_files, folder_path)\n",
        "\n",
        "# Extract 2.5 seconds of audio\n",
        "duration = 2.5\n",
        "num_samples1 = int(duration * sample_rate1)\n",
        "num_samples2 = int(duration * sample_rate2)\n",
        "normal_audio_data = normal_audio_data[:, :num_samples1]\n",
        "abnormal_audio_data = abnormal_audio_data[:, :num_samples2]\n",
        "\n",
        "# Apply bandpass filter to the audio data\n",
        "normal_audio_data_filtered  = apply_filter(normal_audio_data, sample_rate1, 'band', [25, 600])\n",
        "abnormal_audio_data_filtered = apply_filter(abnormal_audio_data, sample_rate2, 'band', [25, 600])\n",
        "\n",
        "# Apply z-score normalization\n",
        "normal_audio_data_norm = z_score_normalization(normal_audio_data_filtered)\n",
        "abnormal_audio_data_norm = z_score_normalization(abnormal_audio_data_filtered)\n",
        "\n",
        "# Compute PSD for normal and abnormal audio data\n",
        "frequencies, normal_psd_array = compute_psd(normal_audio_data_norm, sample_rate1)\n",
        "frequencies, abnormal_psd_array = compute_psd(abnormal_audio_data_norm, sample_rate2)\n",
        "\n",
        "def slice_psd_and_compute_features(psd_array, frequencies, start_freq, stop_freq, increment, overlap):\n",
        "    features_list = []\n",
        "    step = increment - overlap\n",
        "    for low in range(start_freq, stop_freq, step):\n",
        "        high = low + increment\n",
        "        if high > stop_freq:\n",
        "            high = stop_freq\n",
        "        freq_mask = (frequencies >= low) & (frequencies < high)\n",
        "        sliced_psd = psd_array[:, freq_mask]\n",
        "        mean_psd = np.mean(sliced_psd, axis=1)\n",
        "        std_psd = np.std(sliced_psd, axis=1)\n",
        "        features_list.append((mean_psd, std_psd))\n",
        "    return np.array(features_list)\n",
        "\n",
        "# Define slicing parameters\n",
        "start_freq = 250\n",
        "stop_freq = 600\n",
        "increment = 50\n",
        "overlap = 25\n",
        "\n",
        "# Compute features for normal and abnormal PSD data\n",
        "normal_feature_matrix = slice_psd_and_compute_features(normal_psd_array, frequencies, start_freq, stop_freq, increment, overlap)\n",
        "abnormal_feature_matrix = slice_psd_and_compute_features(abnormal_psd_array, frequencies, start_freq, stop_freq, increment, overlap)\n",
        "\n",
        "# Extract mean and std features\n",
        "normal_mean_features = np.array([feature[0] for feature in normal_feature_matrix])\n",
        "normal_std_features = np.array([feature[1] for feature in normal_feature_matrix])\n",
        "abnormal_mean_features = np.array([feature[0] for feature in abnormal_feature_matrix])\n",
        "abnormal_std_features = np.array([feature[1] for feature in abnormal_feature_matrix])\n",
        "\n",
        "# Define frequency ranges\n",
        "frequency_ranges = [f\"{low}-{low+increment}\" for low in range(start_freq, stop_freq, increment-overlap)]\n",
        "\n",
        "# Create DataFrame for normal features\n",
        "normal_features_df = pd.DataFrame(\n",
        "    data=np.hstack((normal_mean_features, normal_std_features)),\n",
        "    index=frequency_ranges,\n",
        "    columns=[f\"Normal Mean {i+1}\" for i in range(normal_mean_features.shape[1])] + [f\"Normal Std {i+1}\" for i in range(normal_std_features.shape[1])]\n",
        ")\n",
        "\n",
        "# Create DataFrame for abnormal features\n",
        "abnormal_features_df = pd.DataFrame(\n",
        "    data=np.hstack((abnormal_mean_features, abnormal_std_features)),\n",
        "    index=frequency_ranges,\n",
        "    columns=[f\"Abnormal Mean {i+1}\" for i in range(abnormal_mean_features.shape[1])] + [f\"Abnormal Std {i+1}\" for i in range(abnormal_std_features.shape[1])]\n",
        ")\n",
        "\n",
        "# Combine normal and abnormal feature DataFrames\n",
        "combined_features_df = pd.concat([normal_features_df, abnormal_features_df], axis=1)\n",
        "\n",
        "# Display the combined DataFrame\n",
        "print(combined_features_df.to_string())\n"
      ],
      "metadata": {
        "colab": {
          "base_uri": "https://localhost:8080/"
        },
        "id": "bu4p4jE7DA5n",
        "outputId": "c26774ab-88cf-4982-f2cc-d61525072893"
      },
      "execution_count": null,
      "outputs": [
        {
          "output_type": "stream",
          "name": "stdout",
          "text": [
            "         Normal Mean 1  Normal Mean 2  Normal Mean 3  Normal Mean 4  Normal Mean 5  Normal Mean 6  Normal Mean 7  Normal Mean 8  Normal Mean 9  Normal Mean 10  Normal Std 1  Normal Std 2  Normal Std 3  Normal Std 4  Normal Std 5  Normal Std 6  Normal Std 7  Normal Std 8  Normal Std 9  Normal Std 10  Abnormal Mean 1  Abnormal Mean 2  Abnormal Mean 3  Abnormal Mean 4  Abnormal Mean 5  Abnormal Mean 6  Abnormal Mean 7  Abnormal Mean 8  Abnormal Mean 9  Abnormal Mean 10  Abnormal Std 1  Abnormal Std 2  Abnormal Std 3  Abnormal Std 4  Abnormal Std 5  Abnormal Std 6  Abnormal Std 7  Abnormal Std 8  Abnormal Std 9  Abnormal Std 10\n",
            "250-300       0.001035       0.000423       0.000875       0.001325       0.001183       0.000412       0.001351       0.000665       0.000423        0.000951      0.000342  9.375176e-05      0.000407      0.000271      0.000283      0.000094      0.000164      0.000087      0.000138       0.000257         0.000588         0.000840         0.000346         0.000439         0.001967         0.000848         0.002599         0.000445         0.000965          0.001554    8.297495e-05        0.000305    9.025653e-05        0.000139        0.000571        0.000170        0.000862        0.000164        0.000333         0.000469\n",
            "275-325       0.000469       0.000326       0.000734       0.001006       0.000806       0.000408       0.001213       0.000582       0.000456        0.000855      0.000229  6.154812e-05      0.000297      0.000228      0.000265      0.000105      0.000125      0.000081      0.000130       0.000151         0.000423         0.000591         0.000248         0.000374         0.001486         0.000597         0.001222         0.000293         0.000572          0.001303    8.321560e-05        0.000098    5.542967e-05        0.000076        0.000317        0.000155        0.000444        0.000043        0.000155         0.000294\n",
            "300-350       0.000214       0.000283       0.000750       0.000789       0.000549       0.000432       0.000917       0.000463       0.000247        0.000801      0.000087  3.725518e-05      0.000298      0.000146      0.000163      0.000089      0.000291      0.000082      0.000110       0.000179         0.000265         0.000507         0.000226         0.000359         0.001191         0.000436         0.000911         0.000252         0.000570          0.000981    8.773699e-05        0.000041    2.903120e-05        0.000107        0.000368        0.000069        0.000213        0.000052        0.000102         0.000444\n",
            "325-375       0.000230       0.000222       0.000407       0.000683       0.000465       0.000393       0.000647       0.000374       0.000134        0.000525      0.000066  6.254907e-05      0.000147      0.000145      0.000087      0.000053      0.000120      0.000077      0.000032       0.000189         0.000167         0.000425         0.000194         0.000262         0.000992         0.000376         0.000873         0.000165         0.000519          0.000688    1.735620e-05        0.000077    5.150258e-05        0.000128        0.000305        0.000054        0.000193        0.000070        0.000127         0.000281\n",
            "350-400       0.000282       0.000128       0.000373       0.000601       0.000359       0.000716       0.000739       0.000282       0.000144        0.000360      0.000034  4.942411e-05      0.000062      0.000232      0.000090      0.000450      0.000180      0.000073      0.000033       0.000049         0.000123         0.000296         0.000110         0.000146         0.000865         0.000293         0.000841         0.000101         0.000382          0.000642    2.647757e-05        0.000085    3.557747e-05        0.000025        0.000279        0.000069        0.000144        0.000010        0.000098         0.000278\n",
            "375-425       0.000234       0.000079       0.000344       0.000658       0.000275       0.001477       0.000792       0.000231       0.000125        0.000307      0.000057  2.908755e-05      0.000093      0.000253      0.000075      0.000843      0.000148      0.000051      0.000050       0.000064         0.000091         0.000219         0.000063         0.000122         0.000669         0.000232         0.000642         0.000092         0.000289          0.000450    1.866893e-05        0.000036    2.589368e-05        0.000022        0.000132        0.000036        0.000333        0.000017        0.000109         0.000202\n",
            "400-450       0.000155       0.000073       0.000263       0.000594       0.000177       0.002525       0.000947       0.000202       0.000059        0.000265      0.000034  2.153164e-05      0.000062      0.000223      0.000073      0.000609      0.000230      0.000046      0.000017       0.000052         0.000069         0.000195         0.000039         0.000115         0.000428         0.000185         0.000241         0.000075         0.000190          0.000391    7.805513e-06        0.000012    9.064823e-06        0.000025        0.000153        0.000045        0.000079        0.000013        0.000021         0.000127\n",
            "425-475       0.000107       0.000072       0.000221       0.000425       0.000146       0.002729       0.001386       0.000185       0.000040        0.000210      0.000034  2.412928e-05      0.000060      0.000079      0.000034      0.000408      0.000406      0.000040      0.000009       0.000082         0.000060         0.000163         0.000033         0.000099         0.000335         0.000151         0.000275         0.000056         0.000188          0.000378    9.606251e-06        0.000036    1.323240e-05        0.000034        0.000083        0.000037        0.000100        0.000016        0.000021         0.000139\n",
            "450-500       0.000115       0.000040       0.000170       0.000343       0.000152       0.002596       0.001286       0.000149       0.000035        0.000127      0.000034  1.802007e-05      0.000045      0.000125      0.000025      0.000569      0.000512      0.000049      0.000005       0.000019         0.000046         0.000138         0.000022         0.000053         0.000336         0.000111         0.000335         0.000040         0.000143          0.000260    1.589889e-05        0.000011    4.890683e-06        0.000026        0.000049        0.000054        0.000087        0.000008        0.000056         0.000053\n",
            "475-525       0.000166       0.000025       0.000142       0.000217       0.000114       0.002828       0.000715       0.000076       0.000027        0.000100      0.000023  4.999430e-06      0.000034      0.000062      0.000020      0.000600      0.000305      0.000039      0.000009       0.000018         0.000032         0.000136         0.000023         0.000052         0.000232         0.000085         0.000216         0.000031         0.000110          0.000191    8.735182e-06        0.000027    4.105618e-06        0.000020        0.000065        0.000021        0.000109        0.000008        0.000033         0.000047\n",
            "500-550       0.000195       0.000019       0.000111       0.000168       0.000108       0.002867       0.000420       0.000035       0.000020        0.000081      0.000025  7.288729e-06      0.000035      0.000053      0.000017      0.000444      0.000184      0.000022      0.000003       0.000019         0.000024         0.000101         0.000021         0.000049         0.000174         0.000076         0.000111         0.000021         0.000109          0.000187    1.049959e-05        0.000041    5.791206e-06        0.000024        0.000024        0.000026        0.000043        0.000006        0.000028         0.000062\n",
            "525-575       0.000222       0.000014       0.000080       0.000134       0.000176       0.002317       0.000166       0.000016       0.000019        0.000052      0.000015  2.207898e-06      0.000014      0.000015      0.000077      0.000461      0.000089      0.000004      0.000003       0.000016         0.000013         0.000056         0.000012         0.000023         0.000190         0.000047         0.000083         0.000015         0.000074          0.000171    1.873795e-06        0.000011    4.460217e-06        0.000008        0.000031        0.000006        0.000015        0.000003        0.000020         0.000081\n",
            "550-600       0.000248       0.000012       0.000062       0.000122       0.000186       0.002097       0.000078       0.000013       0.000016        0.000034      0.000028  3.573272e-06      0.000015      0.000025      0.000076      0.000539      0.000011      0.000001      0.000003       0.000005         0.000009         0.000042         0.000008         0.000025         0.000185         0.000040         0.000100         0.000012         0.000053          0.000087    2.738249e-06        0.000007    2.023606e-06        0.000005        0.000046        0.000006        0.000020        0.000004        0.000007         0.000028\n",
            "575-625       0.000268       0.000009       0.000051       0.000099       0.000140       0.002250       0.000072       0.000012       0.000014        0.000031      0.000028  9.449648e-07      0.000011      0.000013      0.000045      0.000651      0.000007      0.000001      0.000003       0.000003         0.000006         0.000038         0.000006         0.000029         0.000156         0.000037         0.000107         0.000010         0.000048          0.000064    8.653348e-07        0.000005    5.396478e-07        0.000004        0.000045        0.000004        0.000027        0.000002        0.000005         0.000005\n"
          ]
        }
      ]
    }
  ]
}