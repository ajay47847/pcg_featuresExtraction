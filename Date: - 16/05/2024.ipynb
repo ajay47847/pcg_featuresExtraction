{
  "nbformat": 4,
  "nbformat_minor": 0,
  "metadata": {
    "colab": {
      "provenance": [],
      "toc_visible": true,
      "authorship_tag": "ABX9TyMF27Gqyr5Uf7jVlorQ3K7b",
      "include_colab_link": true
    },
    "kernelspec": {
      "name": "python3",
      "display_name": "Python 3"
    },
    "language_info": {
      "name": "python"
    }
  },
  "cells": [
    {
      "cell_type": "markdown",
      "metadata": {
        "id": "view-in-github",
        "colab_type": "text"
      },
      "source": [
        "<a href=\"https://colab.research.google.com/github/ajay47847/pcg_classification/blob/main/Date%3A%20-%2016/05/2024.ipynb\" target=\"_parent\"><img src=\"https://colab.research.google.com/assets/colab-badge.svg\" alt=\"Open In Colab\"/></a>"
      ]
    },
    {
      "cell_type": "code",
      "execution_count": null,
      "metadata": {
        "id": "PRRw3zkaF796"
      },
      "outputs": [],
      "source": [
        "import numpy as np\n",
        "import matplotlib.pyplot as plt\n",
        "fs = 2000\n",
        "duration=0.2\n",
        "t = np.arange(0,duration,1/fs)\n",
        "signal1 = np.sin(2 * np.pi * 400 * t)\n",
        "signal2 = np.sin(2 * np.pi * 600 * t)\n",
        "signal3 = signal1 + signal2\n",
        "\n",
        "plt.subplot(5, 1, 1)\n",
        "plt.plot(signal1,c=’r’)\n",
        "plt.xlabel(“No of samples”)\n",
        "plt.ylabel(“Amplitude”)\n",
        "plt.title(‘Signal 1’)\n",
        "\n",
        "plt.subplot(5, 1, 3)\n",
        "plt.plot(signal2,c=’g’)\n",
        "plt.xlabel(“No of samples”)\n",
        "plt.ylabel(“Amplitude”)\n",
        "plt.title(‘Signal 2’)\n",
        "\n",
        "plt.subplot(5, 1, 5)\n",
        "plt.plot(t, signal3)\n",
        "plt.title(‘Signal 3’)\n",
        "plt.xlabel(‘Time’)\n",
        "plt.ylabel(‘Amplitude’)\n",
        "\n",
        "plt.show()\n"
      ]
    }
  ]
}